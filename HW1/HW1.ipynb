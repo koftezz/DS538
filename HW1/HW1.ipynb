{
 "cells": [
  {
   "cell_type": "code",
   "execution_count": 565,
   "metadata": {},
   "outputs": [],
   "source": [
    "import pandas as pd\n",
    "import numpy as np\n",
    "from sklearn.linear_model import LinearRegression, LogisticRegression\n",
    "from sklearn.model_selection import train_test_split, KFold\n",
    "from sklearn.metrics import accuracy_score, r2_score, mean_squared_error\n",
    "\n",
    "\n",
    "import logging\n",
    "logger = logging.getLogger()\n",
    "logger.setLevel(logging.INFO)"
   ]
  },
  {
   "cell_type": "code",
   "execution_count": 21,
   "metadata": {},
   "outputs": [],
   "source": [
    "data = pd.read_csv('./archive/fish.csv')"
   ]
  },
  {
   "cell_type": "code",
   "execution_count": 22,
   "metadata": {},
   "outputs": [
    {
     "data": {
      "text/html": [
       "<div>\n",
       "<style scoped>\n",
       "    .dataframe tbody tr th:only-of-type {\n",
       "        vertical-align: middle;\n",
       "    }\n",
       "\n",
       "    .dataframe tbody tr th {\n",
       "        vertical-align: top;\n",
       "    }\n",
       "\n",
       "    .dataframe thead th {\n",
       "        text-align: right;\n",
       "    }\n",
       "</style>\n",
       "<table border=\"1\" class=\"dataframe\">\n",
       "  <thead>\n",
       "    <tr style=\"text-align: right;\">\n",
       "      <th></th>\n",
       "      <th>Species</th>\n",
       "      <th>Weight</th>\n",
       "      <th>Length1</th>\n",
       "      <th>Length2</th>\n",
       "      <th>Length3</th>\n",
       "      <th>Height</th>\n",
       "      <th>Width</th>\n",
       "    </tr>\n",
       "  </thead>\n",
       "  <tbody>\n",
       "    <tr>\n",
       "      <th>0</th>\n",
       "      <td>Bream</td>\n",
       "      <td>242.0</td>\n",
       "      <td>23.2</td>\n",
       "      <td>25.4</td>\n",
       "      <td>30.0</td>\n",
       "      <td>11.5200</td>\n",
       "      <td>4.0200</td>\n",
       "    </tr>\n",
       "    <tr>\n",
       "      <th>1</th>\n",
       "      <td>Bream</td>\n",
       "      <td>290.0</td>\n",
       "      <td>24.0</td>\n",
       "      <td>26.3</td>\n",
       "      <td>31.2</td>\n",
       "      <td>12.4800</td>\n",
       "      <td>4.3056</td>\n",
       "    </tr>\n",
       "    <tr>\n",
       "      <th>2</th>\n",
       "      <td>Bream</td>\n",
       "      <td>340.0</td>\n",
       "      <td>23.9</td>\n",
       "      <td>26.5</td>\n",
       "      <td>31.1</td>\n",
       "      <td>12.3778</td>\n",
       "      <td>4.6961</td>\n",
       "    </tr>\n",
       "    <tr>\n",
       "      <th>3</th>\n",
       "      <td>Bream</td>\n",
       "      <td>363.0</td>\n",
       "      <td>26.3</td>\n",
       "      <td>29.0</td>\n",
       "      <td>33.5</td>\n",
       "      <td>12.7300</td>\n",
       "      <td>4.4555</td>\n",
       "    </tr>\n",
       "    <tr>\n",
       "      <th>4</th>\n",
       "      <td>Bream</td>\n",
       "      <td>430.0</td>\n",
       "      <td>26.5</td>\n",
       "      <td>29.0</td>\n",
       "      <td>34.0</td>\n",
       "      <td>12.4440</td>\n",
       "      <td>5.1340</td>\n",
       "    </tr>\n",
       "    <tr>\n",
       "      <th>...</th>\n",
       "      <td>...</td>\n",
       "      <td>...</td>\n",
       "      <td>...</td>\n",
       "      <td>...</td>\n",
       "      <td>...</td>\n",
       "      <td>...</td>\n",
       "      <td>...</td>\n",
       "    </tr>\n",
       "    <tr>\n",
       "      <th>154</th>\n",
       "      <td>Smelt</td>\n",
       "      <td>12.2</td>\n",
       "      <td>11.5</td>\n",
       "      <td>12.2</td>\n",
       "      <td>13.4</td>\n",
       "      <td>2.0904</td>\n",
       "      <td>1.3936</td>\n",
       "    </tr>\n",
       "    <tr>\n",
       "      <th>155</th>\n",
       "      <td>Smelt</td>\n",
       "      <td>13.4</td>\n",
       "      <td>11.7</td>\n",
       "      <td>12.4</td>\n",
       "      <td>13.5</td>\n",
       "      <td>2.4300</td>\n",
       "      <td>1.2690</td>\n",
       "    </tr>\n",
       "    <tr>\n",
       "      <th>156</th>\n",
       "      <td>Smelt</td>\n",
       "      <td>12.2</td>\n",
       "      <td>12.1</td>\n",
       "      <td>13.0</td>\n",
       "      <td>13.8</td>\n",
       "      <td>2.2770</td>\n",
       "      <td>1.2558</td>\n",
       "    </tr>\n",
       "    <tr>\n",
       "      <th>157</th>\n",
       "      <td>Smelt</td>\n",
       "      <td>19.7</td>\n",
       "      <td>13.2</td>\n",
       "      <td>14.3</td>\n",
       "      <td>15.2</td>\n",
       "      <td>2.8728</td>\n",
       "      <td>2.0672</td>\n",
       "    </tr>\n",
       "    <tr>\n",
       "      <th>158</th>\n",
       "      <td>Smelt</td>\n",
       "      <td>19.9</td>\n",
       "      <td>13.8</td>\n",
       "      <td>15.0</td>\n",
       "      <td>16.2</td>\n",
       "      <td>2.9322</td>\n",
       "      <td>1.8792</td>\n",
       "    </tr>\n",
       "  </tbody>\n",
       "</table>\n",
       "<p>159 rows × 7 columns</p>\n",
       "</div>"
      ],
      "text/plain": [
       "    Species  Weight  Length1  Length2  Length3   Height   Width\n",
       "0     Bream   242.0     23.2     25.4     30.0  11.5200  4.0200\n",
       "1     Bream   290.0     24.0     26.3     31.2  12.4800  4.3056\n",
       "2     Bream   340.0     23.9     26.5     31.1  12.3778  4.6961\n",
       "3     Bream   363.0     26.3     29.0     33.5  12.7300  4.4555\n",
       "4     Bream   430.0     26.5     29.0     34.0  12.4440  5.1340\n",
       "..      ...     ...      ...      ...      ...      ...     ...\n",
       "154   Smelt    12.2     11.5     12.2     13.4   2.0904  1.3936\n",
       "155   Smelt    13.4     11.7     12.4     13.5   2.4300  1.2690\n",
       "156   Smelt    12.2     12.1     13.0     13.8   2.2770  1.2558\n",
       "157   Smelt    19.7     13.2     14.3     15.2   2.8728  2.0672\n",
       "158   Smelt    19.9     13.8     15.0     16.2   2.9322  1.8792\n",
       "\n",
       "[159 rows x 7 columns]"
      ]
     },
     "execution_count": 22,
     "metadata": {},
     "output_type": "execute_result"
    }
   ],
   "source": [
    "data"
   ]
  },
  {
   "cell_type": "markdown",
   "metadata": {},
   "source": [
    "# Task 1: Model Complexity\n",
    "## Predicting the weight"
   ]
  },
  {
   "cell_type": "markdown",
   "metadata": {},
   "source": [
    "#### Populate first random column with data randomly generated between 10 and 100 name the column \"Rand1\"\n",
    "- Created random integer between 10 and 100 and add fraction, then round 4 digits"
   ]
  },
  {
   "cell_type": "code",
   "execution_count": 23,
   "metadata": {},
   "outputs": [],
   "source": [
    "data['Rand1'] = np.NaN\n",
    "data['Rand1'] = data['Rand1'].apply(lambda x: round(np.random.randint(10, 100) + np.random.rand(), 4))"
   ]
  },
  {
   "cell_type": "code",
   "execution_count": 24,
   "metadata": {},
   "outputs": [],
   "source": [
    "np.random.seed(0)\n",
    "data['Rand2'] = np.NaN\n",
    "data['Rand2'] = data['Rand2'].apply(lambda x: np.random.randint(1, 7))"
   ]
  },
  {
   "cell_type": "code",
   "execution_count": 26,
   "metadata": {
    "scrolled": true
   },
   "outputs": [
    {
     "data": {
      "text/html": [
       "<div>\n",
       "<style scoped>\n",
       "    .dataframe tbody tr th:only-of-type {\n",
       "        vertical-align: middle;\n",
       "    }\n",
       "\n",
       "    .dataframe tbody tr th {\n",
       "        vertical-align: top;\n",
       "    }\n",
       "\n",
       "    .dataframe thead th {\n",
       "        text-align: right;\n",
       "    }\n",
       "</style>\n",
       "<table border=\"1\" class=\"dataframe\">\n",
       "  <thead>\n",
       "    <tr style=\"text-align: right;\">\n",
       "      <th></th>\n",
       "      <th>Species</th>\n",
       "      <th>Weight</th>\n",
       "      <th>Length1</th>\n",
       "      <th>Length2</th>\n",
       "      <th>Length3</th>\n",
       "      <th>Height</th>\n",
       "      <th>Width</th>\n",
       "      <th>Rand1</th>\n",
       "      <th>Rand2</th>\n",
       "    </tr>\n",
       "  </thead>\n",
       "  <tbody>\n",
       "    <tr>\n",
       "      <th>0</th>\n",
       "      <td>Bream</td>\n",
       "      <td>242.0</td>\n",
       "      <td>23.2</td>\n",
       "      <td>25.4</td>\n",
       "      <td>30.0</td>\n",
       "      <td>11.5200</td>\n",
       "      <td>4.0200</td>\n",
       "      <td>50.7561</td>\n",
       "      <td>5</td>\n",
       "    </tr>\n",
       "    <tr>\n",
       "      <th>1</th>\n",
       "      <td>Bream</td>\n",
       "      <td>290.0</td>\n",
       "      <td>24.0</td>\n",
       "      <td>26.3</td>\n",
       "      <td>31.2</td>\n",
       "      <td>12.4800</td>\n",
       "      <td>4.3056</td>\n",
       "      <td>82.8960</td>\n",
       "      <td>6</td>\n",
       "    </tr>\n",
       "    <tr>\n",
       "      <th>2</th>\n",
       "      <td>Bream</td>\n",
       "      <td>340.0</td>\n",
       "      <td>23.9</td>\n",
       "      <td>26.5</td>\n",
       "      <td>31.1</td>\n",
       "      <td>12.3778</td>\n",
       "      <td>4.6961</td>\n",
       "      <td>62.8916</td>\n",
       "      <td>1</td>\n",
       "    </tr>\n",
       "    <tr>\n",
       "      <th>3</th>\n",
       "      <td>Bream</td>\n",
       "      <td>363.0</td>\n",
       "      <td>26.3</td>\n",
       "      <td>29.0</td>\n",
       "      <td>33.5</td>\n",
       "      <td>12.7300</td>\n",
       "      <td>4.4555</td>\n",
       "      <td>71.4471</td>\n",
       "      <td>4</td>\n",
       "    </tr>\n",
       "    <tr>\n",
       "      <th>4</th>\n",
       "      <td>Bream</td>\n",
       "      <td>430.0</td>\n",
       "      <td>26.5</td>\n",
       "      <td>29.0</td>\n",
       "      <td>34.0</td>\n",
       "      <td>12.4440</td>\n",
       "      <td>5.1340</td>\n",
       "      <td>14.9786</td>\n",
       "      <td>4</td>\n",
       "    </tr>\n",
       "    <tr>\n",
       "      <th>...</th>\n",
       "      <td>...</td>\n",
       "      <td>...</td>\n",
       "      <td>...</td>\n",
       "      <td>...</td>\n",
       "      <td>...</td>\n",
       "      <td>...</td>\n",
       "      <td>...</td>\n",
       "      <td>...</td>\n",
       "      <td>...</td>\n",
       "    </tr>\n",
       "    <tr>\n",
       "      <th>154</th>\n",
       "      <td>Smelt</td>\n",
       "      <td>12.2</td>\n",
       "      <td>11.5</td>\n",
       "      <td>12.2</td>\n",
       "      <td>13.4</td>\n",
       "      <td>2.0904</td>\n",
       "      <td>1.3936</td>\n",
       "      <td>61.3277</td>\n",
       "      <td>4</td>\n",
       "    </tr>\n",
       "    <tr>\n",
       "      <th>155</th>\n",
       "      <td>Smelt</td>\n",
       "      <td>13.4</td>\n",
       "      <td>11.7</td>\n",
       "      <td>12.4</td>\n",
       "      <td>13.5</td>\n",
       "      <td>2.4300</td>\n",
       "      <td>1.2690</td>\n",
       "      <td>90.0271</td>\n",
       "      <td>3</td>\n",
       "    </tr>\n",
       "    <tr>\n",
       "      <th>156</th>\n",
       "      <td>Smelt</td>\n",
       "      <td>12.2</td>\n",
       "      <td>12.1</td>\n",
       "      <td>13.0</td>\n",
       "      <td>13.8</td>\n",
       "      <td>2.2770</td>\n",
       "      <td>1.2558</td>\n",
       "      <td>57.2400</td>\n",
       "      <td>4</td>\n",
       "    </tr>\n",
       "    <tr>\n",
       "      <th>157</th>\n",
       "      <td>Smelt</td>\n",
       "      <td>19.7</td>\n",
       "      <td>13.2</td>\n",
       "      <td>14.3</td>\n",
       "      <td>15.2</td>\n",
       "      <td>2.8728</td>\n",
       "      <td>2.0672</td>\n",
       "      <td>10.0098</td>\n",
       "      <td>6</td>\n",
       "    </tr>\n",
       "    <tr>\n",
       "      <th>158</th>\n",
       "      <td>Smelt</td>\n",
       "      <td>19.9</td>\n",
       "      <td>13.8</td>\n",
       "      <td>15.0</td>\n",
       "      <td>16.2</td>\n",
       "      <td>2.9322</td>\n",
       "      <td>1.8792</td>\n",
       "      <td>23.9592</td>\n",
       "      <td>1</td>\n",
       "    </tr>\n",
       "  </tbody>\n",
       "</table>\n",
       "<p>159 rows × 9 columns</p>\n",
       "</div>"
      ],
      "text/plain": [
       "    Species  Weight  Length1  Length2  Length3   Height   Width    Rand1  \\\n",
       "0     Bream   242.0     23.2     25.4     30.0  11.5200  4.0200  50.7561   \n",
       "1     Bream   290.0     24.0     26.3     31.2  12.4800  4.3056  82.8960   \n",
       "2     Bream   340.0     23.9     26.5     31.1  12.3778  4.6961  62.8916   \n",
       "3     Bream   363.0     26.3     29.0     33.5  12.7300  4.4555  71.4471   \n",
       "4     Bream   430.0     26.5     29.0     34.0  12.4440  5.1340  14.9786   \n",
       "..      ...     ...      ...      ...      ...      ...     ...      ...   \n",
       "154   Smelt    12.2     11.5     12.2     13.4   2.0904  1.3936  61.3277   \n",
       "155   Smelt    13.4     11.7     12.4     13.5   2.4300  1.2690  90.0271   \n",
       "156   Smelt    12.2     12.1     13.0     13.8   2.2770  1.2558  57.2400   \n",
       "157   Smelt    19.7     13.2     14.3     15.2   2.8728  2.0672  10.0098   \n",
       "158   Smelt    19.9     13.8     15.0     16.2   2.9322  1.8792  23.9592   \n",
       "\n",
       "     Rand2  \n",
       "0        5  \n",
       "1        6  \n",
       "2        1  \n",
       "3        4  \n",
       "4        4  \n",
       "..     ...  \n",
       "154      4  \n",
       "155      3  \n",
       "156      4  \n",
       "157      6  \n",
       "158      1  \n",
       "\n",
       "[159 rows x 9 columns]"
      ]
     },
     "execution_count": 26,
     "metadata": {},
     "output_type": "execute_result"
    }
   ],
   "source": [
    "data"
   ]
  },
  {
   "cell_type": "markdown",
   "metadata": {},
   "source": [
    "#### Since Linear Regression does not work with string, change the Species column values into numeric"
   ]
  },
  {
   "cell_type": "code",
   "execution_count": 39,
   "metadata": {},
   "outputs": [
    {
     "data": {
      "text/plain": [
       "array(['Bream', 'Roach', 'Whitefish', 'Parkki', 'Perch', 'Pike', 'Smelt'],\n",
       "      dtype=object)"
      ]
     },
     "execution_count": 39,
     "metadata": {},
     "output_type": "execute_result"
    }
   ],
   "source": [
    "data.Species.unique()"
   ]
  },
  {
   "cell_type": "code",
   "execution_count": 386,
   "metadata": {},
   "outputs": [],
   "source": [
    "df = data.copy()\n",
    "# df['Species'] = df['Species'].astype('category').cat.codes"
   ]
  },
  {
   "cell_type": "markdown",
   "metadata": {},
   "source": [
    "#### Since it is not an ordered column, we can not simply assign increasing values (i.e. 1 2 3 4) in order not to manipulate the model\n",
    "We will include dummy binary columns stating whether it is species x or not. Also we should eliminate the first column of the dummy df, since all the other 0 flagged dummy columns states that it is a Species of Bream."
   ]
  },
  {
   "cell_type": "code",
   "execution_count": 387,
   "metadata": {},
   "outputs": [],
   "source": [
    "species_dummies = pd.get_dummies(data.Species, prefix='Species', drop_first=True)"
   ]
  },
  {
   "cell_type": "code",
   "execution_count": 388,
   "metadata": {},
   "outputs": [],
   "source": [
    "df = pd.concat([df, species_dummies], axis=1)"
   ]
  },
  {
   "cell_type": "code",
   "execution_count": 394,
   "metadata": {},
   "outputs": [],
   "source": [
    "# define x and y's\n",
    "y = df['Weight']\n",
    "X = df[[col for col in df.columns if col != 'Species' and col != 'Weight']]"
   ]
  },
  {
   "cell_type": "markdown",
   "metadata": {},
   "source": [
    "#### Models:\n",
    "- Model-1: with all variables\n",
    "- Model-2: Drop column Rand1\n",
    "- Model-3: Drop column Rand1 & Rand2\n",
    "- Model-4: Drop column Rand1 & Rand2 & Keep only the top two records (since dropping rand1 & rand2 columns are not clearly stated in the assignment, I assumed dropping those two.)"
   ]
  },
  {
   "cell_type": "code",
   "execution_count": 437,
   "metadata": {},
   "outputs": [
    {
     "name": "stderr",
     "output_type": "stream",
     "text": [
      "INFO:root:Train Data: (111, 13) \n",
      " Test Data: (48, 13)\n"
     ]
    }
   ],
   "source": [
    "X_train, X_test, y_train, y_test = train_test_split(X, y, test_size=0.3, random_state=0)\n",
    "logger.info(\"Train Data: {0} \\n Test Data: {1}\".format(X_train.shape, X_test.shape))"
   ]
  },
  {
   "cell_type": "markdown",
   "metadata": {},
   "source": [
    "*The Linear Regression is used for solving Regression problems whereas Logistic Regression is used for solving the Classification problems.*[1](https://www.javatpoint.com/linear-regression-vs-logistic-regression-in-machine-learning#:~:text=Linear%20regression%20is%20used%20to,given%20set%20of%20independent%20variables.&text=The%20output%20for%20Linear%20Regression%20must%20be%20a%20continuous%20value,as%20price%2C%20age%2C%20etc.)\n",
    "\n",
    "Since our outcome is regression problem, we can use linear regression for predicting weight.\n",
    "-[Linear Regression](https://scikit-learn.org/stable/modules/generated/sklearn.linear_model.LinearRegression.html#sklearn.linear_model.LinearRegression)"
   ]
  },
  {
   "cell_type": "markdown",
   "metadata": {},
   "source": [
    "#### Multilinear Regression Formula\n",
    "$$y = b_0 + b_1X_1 + b_2X_2 + ... + b_nX_n$$\n",
    "\n",
    "$$y: Dependent Variable$$\n",
    "\n",
    "$$b_0: Intercept$$\n",
    "\n",
    "$$b_1 - b_n: \\beta \\ Coefficients$$\n",
    "\n",
    "$$X_1 - X_n: Independent variables$$"
   ]
  },
  {
   "cell_type": "code",
   "execution_count": 438,
   "metadata": {},
   "outputs": [],
   "source": [
    "def run_models(model_id, train_x, train_y, test_x, test_y):\n",
    "\n",
    "    if model_id == 2:\n",
    "#       Drop column Rand1 \n",
    "        train_x = train_x.drop('Rand1', axis=1)\n",
    "        test_x = test_x.drop('Rand1', axis=1)\n",
    "    elif model_id == 3:\n",
    "#       Drop column Rand1 and Rand2\n",
    "        train_x = train_x.drop(['Rand1', 'Rand2'], axis=1)\n",
    "        test_x = test_x.drop(['Rand1', 'Rand2'], axis=1)\n",
    "    elif model_id == 4:\n",
    "#       Drop column Rand1 and Rand2\n",
    "#       Keep only the top two records\n",
    "        train_x = train_x.drop(['Rand1', 'Rand2'], axis=1)\n",
    "        train_x = train_x.head(2)\n",
    "        train_y = train_y.head(2)\n",
    "        \n",
    "        test_x = test_x.drop(['Rand1', 'Rand2'], axis=1)\n",
    "        test_x = test_x.head(2)\n",
    "        test_y = test_y.head(2)\n",
    "    else:\n",
    "    # model with all variables\n",
    "        pass\n",
    "    lr = LinearRegression()\n",
    "    lr.fit(train_x, train_y)\n",
    "    logger.info('\\nModel ID: {0}\\n'.format(model_id))\n",
    "    logger.info('\\nX vars: {0}\\n'.format(list(train_x.columns)))\n",
    "    logger.info('\\nIntercept: {0}\\nCoefficients: {1}\\n'.format(lr.intercept_, list(zip(train_x.columns, lr.coef_))))\n",
    "    \n",
    "    training_score = lr.score(train_x, train_y)\n",
    "    logger.info('\\nTraining Score: {0}\\n'.format(training_score))\n",
    "    y_pred = lr.predict(test_x)\n",
    "    rsq = r2_score(test_y, y_pred)\n",
    "    logger.info('\\nR^2: {0}\\n'.format(rsq))  \n",
    "    \n",
    "    stats = {\n",
    "        'training_score': training_score,\n",
    "        'rsq': rsq,\n",
    "        'intercept': lr.intercept_,\n",
    "        'coef': lr.coef_,\n",
    "        'details_coeff': list(zip(train_x.columns, lr.coef_))\n",
    "    }\n",
    "    \n",
    "    return stats"
   ]
  },
  {
   "cell_type": "code",
   "execution_count": 450,
   "metadata": {
    "scrolled": true
   },
   "outputs": [
    {
     "name": "stderr",
     "output_type": "stream",
     "text": [
      "INFO:root:Fold #: 1\n",
      "INFO:root:\n",
      "Model ID: 1\n",
      "\n",
      "INFO:root:\n",
      "X vars: ['Length1', 'Length2', 'Length3', 'Height', 'Width', 'Rand1', 'Rand2', 'Species_Parkki', 'Species_Perch', 'Species_Pike', 'Species_Roach', 'Species_Smelt', 'Species_Whitefish']\n",
      "\n",
      "INFO:root:\n",
      "Intercept: -879.5687809557165\n",
      "Coefficients: [('Length1', -115.226847574965), ('Length2', 112.30160285275412), ('Length3', 36.38588392572648), ('Height', -3.609614684155062), ('Width', -7.8965077138831035), ('Rand1', -0.04175745506130646), ('Rand2', -6.4211741895402135), ('Species_Parkki', 135.43349422109188), ('Species_Perch', 109.34513792064794), ('Species_Pike', -279.78751518840505), ('Species_Roach', 75.67580347789443), ('Species_Smelt', 423.9063345881278), ('Species_Whitefish', 114.81721979449459)]\n",
      "\n",
      "INFO:root:\n",
      "Training Score: 0.9426827303116784\n",
      "\n",
      "INFO:root:\n",
      "R^2: 0.8880284421214941\n",
      "\n",
      "INFO:root:\n",
      "Model ID: 2\n",
      "\n",
      "INFO:root:\n",
      "X vars: ['Length1', 'Length2', 'Length3', 'Height', 'Width', 'Rand2', 'Species_Parkki', 'Species_Perch', 'Species_Pike', 'Species_Roach', 'Species_Smelt', 'Species_Whitefish']\n",
      "\n",
      "INFO:root:\n",
      "Intercept: -880.5151878169798\n",
      "Coefficients: [('Length1', -114.89180797420775), ('Length2', 111.79707530250828), ('Length3', 36.55428665767059), ('Height', -3.8637678517202225), ('Width', -7.46123048421126), ('Rand2', -6.333585721851738), ('Species_Parkki', 134.66243293342086), ('Species_Perch', 107.9762513495545), ('Species_Pike', -281.27723434040456), ('Species_Roach', 74.09102682673065), ('Species_Smelt', 422.05498231125006), ('Species_Whitefish', 113.45653458827078)]\n",
      "\n",
      "INFO:root:\n",
      "Training Score: 0.9426746319335234\n",
      "\n",
      "INFO:root:\n",
      "R^2: 0.8886193394450168\n",
      "\n",
      "INFO:root:\n",
      "Model ID: 3\n",
      "\n",
      "INFO:root:\n",
      "X vars: ['Length1', 'Length2', 'Length3', 'Height', 'Width', 'Species_Parkki', 'Species_Perch', 'Species_Pike', 'Species_Roach', 'Species_Smelt', 'Species_Whitefish']\n",
      "\n",
      "INFO:root:\n",
      "Intercept: -919.1449902066594\n",
      "Coefficients: [('Length1', -111.23974069852991), ('Length2', 107.94706926084979), ('Length3', 37.23674173513771), ('Height', -2.170110647498163), ('Width', -10.943713648394104), ('Species_Parkki', 145.9993778816644), ('Species_Perch', 119.17416384872911), ('Species_Pike', -268.61178767412594), ('Species_Roach', 88.34470425669495), ('Species_Smelt', 435.8056490257802), ('Species_Whitefish', 121.40610286484248)]\n",
      "\n",
      "INFO:root:\n",
      "Training Score: 0.941934674618622\n",
      "\n",
      "INFO:root:\n",
      "R^2: 0.8907158954387882\n",
      "\n",
      "INFO:root:\n",
      "Model ID: 4\n",
      "\n",
      "INFO:root:\n",
      "X vars: ['Length1', 'Length2', 'Length3', 'Height', 'Width', 'Species_Parkki', 'Species_Perch', 'Species_Pike', 'Species_Roach', 'Species_Smelt', 'Species_Whitefish']\n",
      "\n",
      "INFO:root:\n",
      "Intercept: -349.5428640368507\n",
      "Coefficients: [('Length1', -9.019564470028595), ('Length2', -2.4897493088691425), ('Length3', 10.691818438352787), ('Height', 42.58780181579286), ('Width', 13.102080128923635), ('Species_Parkki', 0.0), ('Species_Perch', 0.0), ('Species_Pike', 0.0), ('Species_Roach', 0.0), ('Species_Smelt', 0.0), ('Species_Whitefish', 0.0)]\n",
      "\n",
      "INFO:root:\n",
      "Training Score: 1.0\n",
      "\n",
      "INFO:root:\n",
      "R^2: 0.0\n",
      "\n",
      "INFO:root:Fold #: 2\n",
      "INFO:root:\n",
      "Model ID: 1\n",
      "\n",
      "INFO:root:\n",
      "X vars: ['Length1', 'Length2', 'Length3', 'Height', 'Width', 'Rand1', 'Rand2', 'Species_Parkki', 'Species_Perch', 'Species_Pike', 'Species_Roach', 'Species_Smelt', 'Species_Whitefish']\n",
      "\n",
      "INFO:root:\n",
      "Intercept: -956.6015264862747\n",
      "Coefficients: [('Length1', -138.82679723654627), ('Length2', 129.88939064197848), ('Length3', 35.990598021962654), ('Height', -1.7393496401807518), ('Width', 26.069402183154352), ('Rand1', 0.1332760613912356), ('Rand2', -5.7134582383243036), ('Species_Parkki', 187.03715679631725), ('Species_Perch', 115.38259897155513), ('Species_Pike', -210.63456479906404), ('Species_Roach', 108.76196985224477), ('Species_Smelt', 495.2926461711361), ('Species_Whitefish', 9.872768572999727)]\n",
      "\n",
      "INFO:root:\n",
      "Training Score: 0.9446735267080499\n",
      "\n",
      "INFO:root:\n",
      "R^2: 0.8993224310182197\n",
      "\n",
      "INFO:root:\n",
      "Model ID: 2\n",
      "\n",
      "INFO:root:\n",
      "X vars: ['Length1', 'Length2', 'Length3', 'Height', 'Width', 'Rand2', 'Species_Parkki', 'Species_Perch', 'Species_Pike', 'Species_Roach', 'Species_Smelt', 'Species_Whitefish']\n",
      "\n",
      "INFO:root:\n",
      "Intercept: -951.872777371497\n",
      "Coefficients: [('Length1', -140.39085942174583), ('Length2', 130.4797699579472), ('Length3', 36.87976749671269), ('Height', -1.6699580966672158), ('Width', 25.49502163786197), ('Rand2', -6.296360455487525), ('Species_Parkki', 190.08884536010376), ('Species_Perch', 119.87542788503495), ('Species_Pike', -208.39883313030967), ('Species_Roach', 112.00201067726599), ('Species_Smelt', 500.43310381367513), ('Species_Whitefish', 13.25852073531038)]\n",
      "\n",
      "INFO:root:\n",
      "Training Score: 0.9445836524865896\n",
      "\n",
      "INFO:root:\n",
      "R^2: 0.8986363091099508\n",
      "\n",
      "INFO:root:\n",
      "Model ID: 3\n",
      "\n",
      "INFO:root:\n",
      "X vars: ['Length1', 'Length2', 'Length3', 'Height', 'Width', 'Species_Parkki', 'Species_Perch', 'Species_Pike', 'Species_Roach', 'Species_Smelt', 'Species_Whitefish']\n",
      "\n",
      "INFO:root:\n",
      "Intercept: -981.1836515218095\n",
      "Coefficients: [('Length1', -137.7180436559731), ('Length2', 128.2535667161493), ('Length3', 36.68268146915456), ('Height', -0.7906820168844959), ('Width', 24.611188567560273), ('Species_Parkki', 197.49670596206417), ('Species_Perch', 122.26712471819157), ('Species_Pike', -202.13001467700187), ('Species_Roach', 118.08311600646408), ('Species_Smelt', 507.8104363821071), ('Species_Whitefish', 17.05258631091272)]\n",
      "\n",
      "INFO:root:\n",
      "Training Score: 0.9437222471004475\n",
      "\n",
      "INFO:root:\n",
      "R^2: 0.8989127142520117\n",
      "\n",
      "INFO:root:\n",
      "Model ID: 4\n",
      "\n",
      "INFO:root:\n",
      "X vars: ['Length1', 'Length2', 'Length3', 'Height', 'Width', 'Species_Parkki', 'Species_Perch', 'Species_Pike', 'Species_Roach', 'Species_Smelt', 'Species_Whitefish']\n",
      "\n",
      "INFO:root:\n",
      "Intercept: -349.5428640368507\n",
      "Coefficients: [('Length1', -9.019564470028595), ('Length2', -2.4897493088691425), ('Length3', 10.691818438352787), ('Height', 42.58780181579286), ('Width', 13.102080128923635), ('Species_Parkki', 0.0), ('Species_Perch', 0.0), ('Species_Pike', 0.0), ('Species_Roach', 0.0), ('Species_Smelt', 0.0), ('Species_Whitefish', 0.0)]\n",
      "\n",
      "INFO:root:\n",
      "Training Score: 1.0\n",
      "\n",
      "INFO:root:\n",
      "R^2: -12.116253579039967\n",
      "\n",
      "INFO:root:Fold #: 3\n",
      "INFO:root:\n",
      "Model ID: 1\n",
      "\n",
      "INFO:root:\n",
      "X vars: ['Length1', 'Length2', 'Length3', 'Height', 'Width', 'Rand1', 'Rand2', 'Species_Parkki', 'Species_Perch', 'Species_Pike', 'Species_Roach', 'Species_Smelt', 'Species_Whitefish']\n",
      "\n",
      "INFO:root:\n",
      "Intercept: -882.8107537554979\n",
      "Coefficients: [('Length1', -51.998760305209075), ('Length2', 58.507404767508405), ('Length3', 29.358863527438015), ('Height', 1.802617224815199), ('Width', -4.7058248415475665), ('Rand1', 0.029736789189941604), ('Rand2', 0.1181231336746158), ('Species_Parkki', 162.6386697232122), ('Species_Perch', 110.40288594957843), ('Species_Pike', -254.48488562207658), ('Species_Roach', 79.62829836580336), ('Species_Smelt', 398.29722957335343), ('Species_Whitefish', 95.91273213559947)]\n",
      "\n",
      "INFO:root:\n",
      "Training Score: 0.9378578116750678\n",
      "\n",
      "INFO:root:\n",
      "R^2: 0.9144929755144007\n",
      "\n",
      "INFO:root:\n",
      "Model ID: 2\n",
      "\n",
      "INFO:root:\n",
      "X vars: ['Length1', 'Length2', 'Length3', 'Height', 'Width', 'Rand2', 'Species_Parkki', 'Species_Perch', 'Species_Pike', 'Species_Roach', 'Species_Smelt', 'Species_Whitefish']\n",
      "\n",
      "INFO:root:\n",
      "Intercept: -881.2657077894855\n",
      "Coefficients: [('Length1', -52.050948639855086), ('Length2', 58.73692819584068), ('Length3', 29.22247243175022), ('Height', 1.8816847096519478), ('Width', -5.027117889634395), ('Rand2', 0.04128417787688998), ('Species_Parkki', 162.84232143941756), ('Species_Perch', 110.69834797635394), ('Species_Pike', -254.87662144078524), ('Species_Roach', 80.08567696303002), ('Species_Smelt', 398.7190792207967), ('Species_Whitefish', 96.7151712458312)]\n",
      "\n",
      "INFO:root:\n",
      "Training Score: 0.9378538714843273\n",
      "\n",
      "INFO:root:\n",
      "R^2: 0.9140312403780957\n",
      "\n",
      "INFO:root:\n",
      "Model ID: 3\n",
      "\n",
      "INFO:root:\n",
      "X vars: ['Length1', 'Length2', 'Length3', 'Height', 'Width', 'Species_Parkki', 'Species_Perch', 'Species_Pike', 'Species_Roach', 'Species_Smelt', 'Species_Whitefish']\n",
      "\n",
      "INFO:root:\n",
      "Intercept: -881.0546030517996\n",
      "Coefficients: [('Length1', -52.089897325238944), ('Length2', 58.769753399994116), ('Length3', 29.223013836034415), ('Height', 1.8677202315359658), ('Width', -4.988541853268083), ('Species_Parkki', 162.792771271993), ('Species_Perch', 110.63982462558815), ('Species_Pike', -254.93924478091407), ('Species_Roach', 79.99678906764424), ('Species_Smelt', 398.66656780389803), ('Species_Whitefish', 96.63213649758464)]\n",
      "\n",
      "INFO:root:\n",
      "Training Score: 0.9378538431091168\n",
      "\n",
      "INFO:root:\n",
      "R^2: 0.9141022506178795\n",
      "\n",
      "INFO:root:\n",
      "Model ID: 4\n",
      "\n"
     ]
    },
    {
     "name": "stdout",
     "output_type": "stream",
     "text": [
      "####################################\n",
      "####################################\n"
     ]
    },
    {
     "name": "stderr",
     "output_type": "stream",
     "text": [
      "INFO:root:\n",
      "X vars: ['Length1', 'Length2', 'Length3', 'Height', 'Width', 'Species_Parkki', 'Species_Perch', 'Species_Pike', 'Species_Roach', 'Species_Smelt', 'Species_Whitefish']\n",
      "\n",
      "INFO:root:\n",
      "Intercept: -349.5428640368507\n",
      "Coefficients: [('Length1', -9.019564470028595), ('Length2', -2.4897493088691425), ('Length3', 10.691818438352787), ('Height', 42.58780181579286), ('Width', 13.102080128923635), ('Species_Parkki', 0.0), ('Species_Perch', 0.0), ('Species_Pike', 0.0), ('Species_Roach', 0.0), ('Species_Smelt', 0.0), ('Species_Whitefish', 0.0)]\n",
      "\n",
      "INFO:root:\n",
      "Training Score: 1.0\n",
      "\n",
      "INFO:root:\n",
      "R^2: -19.22094977291175\n",
      "\n",
      "INFO:root:Fold #: 4\n",
      "INFO:root:\n",
      "Model ID: 1\n",
      "\n",
      "INFO:root:\n",
      "X vars: ['Length1', 'Length2', 'Length3', 'Height', 'Width', 'Rand1', 'Rand2', 'Species_Parkki', 'Species_Perch', 'Species_Pike', 'Species_Roach', 'Species_Smelt', 'Species_Whitefish']\n",
      "\n",
      "INFO:root:\n",
      "Intercept: -874.8526226886531\n",
      "Coefficients: [('Length1', -58.509418565048755), ('Length2', 49.44437135725046), ('Length3', 37.81575046536988), ('Height', 5.006273576003343), ('Width', 18.366183405356285), ('Rand1', 0.33354105166700965), ('Rand2', -2.6587027766982376), ('Species_Parkki', 140.30351054990157), ('Species_Perch', 131.32336480041891), ('Species_Pike', -169.77303952614324), ('Species_Roach', 87.0642365901505), ('Species_Smelt', 416.6776119675565), ('Species_Whitefish', 81.24098086039011)]\n",
      "\n",
      "INFO:root:\n",
      "Training Score: 0.9344877972984188\n",
      "\n",
      "INFO:root:\n",
      "R^2: 0.9384123819440832\n",
      "\n",
      "INFO:root:\n",
      "Model ID: 2\n",
      "\n",
      "INFO:root:\n",
      "X vars: ['Length1', 'Length2', 'Length3', 'Height', 'Width', 'Rand2', 'Species_Parkki', 'Species_Perch', 'Species_Pike', 'Species_Roach', 'Species_Smelt', 'Species_Whitefish']\n",
      "\n",
      "INFO:root:\n",
      "Intercept: -854.5636336019338\n",
      "Coefficients: [('Length1', -60.56636746272997), ('Length2', 54.09816438482368), ('Length3', 35.300953891967914), ('Height', 6.02326376966503), ('Width', 16.41464432122201), ('Rand2', -3.5416507443910175), ('Species_Parkki', 141.2370865818797), ('Species_Perch', 131.6640525774933), ('Species_Pike', -171.18854927818217), ('Species_Roach', 89.34512417965921), ('Species_Smelt', 420.17732117643556), ('Species_Whitefish', 85.86083116777641)]\n",
      "\n",
      "INFO:root:\n",
      "Training Score: 0.933909879741044\n",
      "\n",
      "INFO:root:\n",
      "R^2: 0.9404592178243831\n",
      "\n",
      "INFO:root:\n",
      "Model ID: 3\n",
      "\n",
      "INFO:root:\n",
      "X vars: ['Length1', 'Length2', 'Length3', 'Height', 'Width', 'Species_Parkki', 'Species_Perch', 'Species_Pike', 'Species_Roach', 'Species_Smelt', 'Species_Whitefish']\n",
      "\n",
      "INFO:root:\n",
      "Intercept: -869.4477606284272\n",
      "Coefficients: [('Length1', -59.186803343925966), ('Length2', 53.63519628095647), ('Length3', 34.6042238816632), ('Height', 6.628738699874212), ('Width', 15.318487339087007), ('Species_Parkki', 144.26468078321352), ('Species_Perch', 132.00013111400457), ('Species_Pike', -169.3094278000002), ('Species_Roach', 92.56906661881483), ('Species_Smelt', 421.59552435221633), ('Species_Whitefish', 87.5442023311882)]\n",
      "\n",
      "INFO:root:\n",
      "Training Score: 0.9336620534764528\n",
      "\n",
      "INFO:root:\n",
      "R^2: 0.9392008657132853\n",
      "\n",
      "INFO:root:\n",
      "Model ID: 4\n",
      "\n",
      "INFO:root:\n",
      "X vars: ['Length1', 'Length2', 'Length3', 'Height', 'Width', 'Species_Parkki', 'Species_Perch', 'Species_Pike', 'Species_Roach', 'Species_Smelt', 'Species_Whitefish']\n",
      "\n",
      "INFO:root:\n",
      "Intercept: 1656.9398269238095\n",
      "Coefficients: [('Length1', -24.452861958020193), ('Length2', 25.1352079884906), ('Length3', -48.55205913845192), ('Height', -25.110479848437524), ('Width', 89.90057683007534), ('Species_Parkki', 0.0), ('Species_Perch', 0.0), ('Species_Pike', 0.0), ('Species_Roach', 0.0), ('Species_Smelt', 0.0), ('Species_Whitefish', 0.0)]\n",
      "\n",
      "INFO:root:\n",
      "Training Score: 1.0\n",
      "\n",
      "INFO:root:\n",
      "R^2: -5.63805470620739\n",
      "\n",
      "INFO:root:Fold #: 5\n",
      "INFO:root:\n",
      "Model ID: 1\n",
      "\n",
      "INFO:root:\n",
      "X vars: ['Length1', 'Length2', 'Length3', 'Height', 'Width', 'Rand1', 'Rand2', 'Species_Parkki', 'Species_Perch', 'Species_Pike', 'Species_Roach', 'Species_Smelt', 'Species_Whitefish']\n",
      "\n",
      "INFO:root:\n",
      "Intercept: -912.5010376153836\n",
      "Coefficients: [('Length1', -51.09830045712514), ('Length2', 59.624068402590574), ('Length3', 24.5403017957887), ('Height', 15.927873906552396), ('Width', -14.710922867239145), ('Rand1', 0.31461252741055556), ('Rand2', -5.0715960995300815), ('Species_Parkki', 158.60442994568126), ('Species_Perch', 178.5034078042406), ('Species_Pike', -168.47280826523541), ('Species_Roach', 115.06439571090236), ('Species_Smelt', 446.1183559193683), ('Species_Whitefish', 123.01766434312975)]\n",
      "\n",
      "INFO:root:\n",
      "Training Score: 0.9328782222433731\n",
      "\n",
      "INFO:root:\n",
      "R^2: 0.941609150425118\n",
      "\n",
      "INFO:root:\n",
      "Model ID: 2\n",
      "\n",
      "INFO:root:\n",
      "X vars: ['Length1', 'Length2', 'Length3', 'Height', 'Width', 'Rand2', 'Species_Parkki', 'Species_Perch', 'Species_Pike', 'Species_Roach', 'Species_Smelt', 'Species_Whitefish']\n",
      "\n",
      "INFO:root:\n",
      "Intercept: -896.4016000937612\n",
      "Coefficients: [('Length1', -49.10456667015343), ('Length2', 59.51495993969384), ('Length3', 22.69197568089672), ('Height', 18.22863769799651), ('Width', -17.973440398742614), ('Rand2', -6.075339750642812), ('Species_Parkki', 160.18000801245685), ('Species_Perch', 187.2487669649843), ('Species_Pike', -155.47400864377832), ('Species_Roach', 125.01496323816254), ('Species_Smelt', 455.17564696665625), ('Species_Whitefish', 134.9290748057165)]\n",
      "\n",
      "INFO:root:\n",
      "Training Score: 0.9323228899353578\n",
      "\n",
      "INFO:root:\n",
      "R^2: 0.9425014040061516\n",
      "\n",
      "INFO:root:\n",
      "Model ID: 3\n",
      "\n",
      "INFO:root:\n",
      "X vars: ['Length1', 'Length2', 'Length3', 'Height', 'Width', 'Species_Parkki', 'Species_Perch', 'Species_Pike', 'Species_Roach', 'Species_Smelt', 'Species_Whitefish']\n",
      "\n",
      "INFO:root:\n",
      "Intercept: -931.8932940946714\n",
      "Coefficients: [('Length1', -44.65066678503018), ('Length2', 53.35070931420734), ('Length3', 25.24491933275938), ('Height', 18.85143655607139), ('Width', -22.06467643509221), ('Species_Parkki', 172.03770612117296), ('Species_Perch', 196.85451263320203), ('Species_Pike', -154.18777731560078), ('Species_Roach', 127.86783379086881), ('Species_Smelt', 463.5953362205676), ('Species_Whitefish', 143.47921682034857)]\n",
      "\n",
      "INFO:root:\n",
      "Training Score: 0.9315855291653699\n",
      "\n",
      "INFO:root:\n",
      "R^2: 0.9425307147389097\n",
      "\n",
      "INFO:root:\n",
      "Model ID: 4\n",
      "\n",
      "INFO:root:\n",
      "X vars: ['Length1', 'Length2', 'Length3', 'Height', 'Width', 'Species_Parkki', 'Species_Perch', 'Species_Pike', 'Species_Roach', 'Species_Smelt', 'Species_Whitefish']\n",
      "\n",
      "INFO:root:\n",
      "Intercept: -1712.1152981241373\n",
      "Coefficients: [('Length1', -0.011025720293979191), ('Length2', 28.98567854318098), ('Length3', 28.98567854318098), ('Height', 22.584248590246983), ('Width', 21.988547209722896), ('Species_Parkki', 0.0), ('Species_Perch', 0.0), ('Species_Pike', 0.0), ('Species_Roach', 0.0), ('Species_Smelt', 0.0), ('Species_Whitefish', 0.0)]\n",
      "\n",
      "INFO:root:\n",
      "Training Score: 1.0\n",
      "\n",
      "INFO:root:\n",
      "R^2: -5.181013153000209\n",
      "\n"
     ]
    },
    {
     "name": "stdout",
     "output_type": "stream",
     "text": [
      "####################################\n",
      "####################################\n",
      "####################################\n"
     ]
    }
   ],
   "source": [
    "final_df = pd.DataFrame(columns=['Fold', 'model_id', 'training_acc', 'rsq', 'intercept', 'coef'])\n",
    "kf = KFold(n_splits=5, shuffle=True)  # Define the split\n",
    "fold = 0\n",
    "for train_index, test_index in kf.split(df):\n",
    "    fold = fold + 1\n",
    "    X_train, X_test = X.iloc[train_index], X.iloc[test_index]\n",
    "    y_train, y_test = y.iloc[train_index], y.iloc[test_index]\n",
    "    \n",
    "    logging.info(\"Fold #: {0}\".format(fold))\n",
    "    for i in range(1,5):\n",
    "        stats = run_models(i, X_train, y_train, X_test, y_test)\n",
    "        final_df = final_df.append({\n",
    "                        'Fold': fold,\n",
    "                        'model_id': i,\n",
    "                        'training_acc': stats['training_score'],\n",
    "                        'rsq': stats['rsq'],\n",
    "                        'intercept': stats['intercept'],\n",
    "                        'coef': stats['coef'],\n",
    "                        'details_coeff': stats['details_coeff']}, ignore_index=True)\n",
    "    print(\"####################################\")"
   ]
  },
  {
   "cell_type": "code",
   "execution_count": 451,
   "metadata": {},
   "outputs": [],
   "source": [
    "results = final_df.groupby('model_id').agg({'training_acc': 'mean',\n",
    "                                           'rsq': 'mean'})"
   ]
  },
  {
   "cell_type": "code",
   "execution_count": 452,
   "metadata": {},
   "outputs": [
    {
     "data": {
      "text/html": [
       "<div>\n",
       "<style scoped>\n",
       "    .dataframe tbody tr th:only-of-type {\n",
       "        vertical-align: middle;\n",
       "    }\n",
       "\n",
       "    .dataframe tbody tr th {\n",
       "        vertical-align: top;\n",
       "    }\n",
       "\n",
       "    .dataframe thead th {\n",
       "        text-align: right;\n",
       "    }\n",
       "</style>\n",
       "<table border=\"1\" class=\"dataframe\">\n",
       "  <thead>\n",
       "    <tr style=\"text-align: right;\">\n",
       "      <th></th>\n",
       "      <th>training_acc</th>\n",
       "      <th>rsq</th>\n",
       "    </tr>\n",
       "    <tr>\n",
       "      <th>model_id</th>\n",
       "      <th></th>\n",
       "      <th></th>\n",
       "    </tr>\n",
       "  </thead>\n",
       "  <tbody>\n",
       "    <tr>\n",
       "      <th>1</th>\n",
       "      <td>0.938516</td>\n",
       "      <td>0.916373</td>\n",
       "    </tr>\n",
       "    <tr>\n",
       "      <th>2</th>\n",
       "      <td>0.938269</td>\n",
       "      <td>0.916850</td>\n",
       "    </tr>\n",
       "    <tr>\n",
       "      <th>3</th>\n",
       "      <td>0.937752</td>\n",
       "      <td>0.917092</td>\n",
       "    </tr>\n",
       "    <tr>\n",
       "      <th>4</th>\n",
       "      <td>1.000000</td>\n",
       "      <td>-8.431254</td>\n",
       "    </tr>\n",
       "  </tbody>\n",
       "</table>\n",
       "</div>"
      ],
      "text/plain": [
       "          training_acc       rsq\n",
       "model_id                        \n",
       "1             0.938516  0.916373\n",
       "2             0.938269  0.916850\n",
       "3             0.937752  0.917092\n",
       "4             1.000000 -8.431254"
      ]
     },
     "execution_count": 452,
     "metadata": {},
     "output_type": "execute_result"
    }
   ],
   "source": [
    "results"
   ]
  },
  {
   "cell_type": "code",
   "execution_count": 468,
   "metadata": {},
   "outputs": [
    {
     "data": {
      "image/png": "[encoded data removed]",
      "text/plain": [
       "<Figure size 432x288 with 1 Axes>"
      ]
     },
     "metadata": {
      "needs_background": "light"
     },
     "output_type": "display_data"
    },
    {
     "data": {
      "image/png": "[encoded data removed]",
      "text/plain": [
       "<Figure size 432x288 with 1 Axes>"
      ]
     },
     "metadata": {
      "needs_background": "light"
     },
     "output_type": "display_data"
    },
    {
     "data": {
      "image/png": "[encoded data removed]",
      "text/plain": [
       "<Figure size 432x288 with 1 Axes>"
      ]
     },
     "metadata": {
      "needs_background": "light"
     },
     "output_type": "display_data"
    },
    {
     "data": {
      "image/png": "[encoded data removed]",
      "text/plain": [
       "<Figure size 432x288 with 1 Axes>"
      ]
     },
     "metadata": {
      "needs_background": "light"
     },
     "output_type": "display_data"
    },
    {
     "data": {
      "image/png": "[encoded data removed]",
      "text/plain": [
       "<Figure size 432x288 with 1 Axes>"
      ]
     },
     "metadata": {
      "needs_background": "light"
     },
     "output_type": "display_data"
    },
    {
     "data": {
      "image/png": "[encoded data removed]",
      "text/plain": [
       "<Figure size 432x288 with 1 Axes>"
      ]
     },
     "metadata": {
      "needs_background": "light"
     },
     "output_type": "display_data"
    },
    {
     "data": {
      "image/png": "[encoded data removed]",
      "text/plain": [
       "<Figure size 432x288 with 1 Axes>"
      ]
     },
     "metadata": {
      "needs_background": "light"
     },
     "output_type": "display_data"
    }
   ],
   "source": [
    "# regression trends of features with the dependent variable\n",
    "i = 0\n",
    "for col in ['Length1', 'Length2', 'Length3', 'Height', 'Width', 'Rand1', 'Rand2']:\n",
    "    i = i + 1\n",
    "    plt.figure()\n",
    "    sns.regplot(x = col, y = 'Weight', data = df).set_title('Figure {0}: {1} vs {2}'.format(i, 'Weight', col));\n",
    "plt.show()"
   ]
  },
  {
   "cell_type": "markdown",
   "metadata": {},
   "source": [
    "#### Results\n",
    "In order to examine the results clearly, we splitted data into 5 folds and than average all the metrics by model. As expected, model 4 which is keeping only top two records, is overfitted and failed in test. This is not a correct model when it comes to predicting the outcomes because it does not have any background on learning patterns. Also, $R^2$ values of model 4 is strange, which is out of range [-1, 1], this may happen in small datasets, which we have two rows, it is stated that our dataset should be of a shape where *$m > n^2$* when the number of features is *n*, and the number of rows is *m*.\n",
    "\n",
    "On comparing other models,\n",
    "\n",
    "|model_id | avg training score | avg $R^2$ |\n",
    "| --- | --- | --- |\n",
    "|1 | 0.938516\t | 0.916373 | \n",
    "|2 | 0.938269\t |\t0.916850 |\n",
    "|3 | 0.937752 |\t0.917092 |\n",
    "|4| 1 | -8.431254 |\n",
    "\n",
    "their results almost similar to each other. As expected, model 3 is the top one since it is the pure data without random column appends. In terms of training scores & $R^2$, model 3 performs better than the rest of them. However, the differences are negligible. Adding the *Rand1* column to the model relatively performs worse than *Rand2* column. This can be explained by the figures above (Fig. 6 & 7), the plot of *Rand1* column with respect to *Weight* shows that it has no correlation with the data. However, *Rand2* column has a slowly decreasing trend with the data. So, excluding Rand1, Rand1 & Rand2 respectively improved the model and resulted as model 3."
   ]
  },
  {
   "cell_type": "markdown",
   "metadata": {},
   "source": [
    "# Task 2: Optimization"
   ]
  },
  {
   "cell_type": "markdown",
   "metadata": {},
   "source": [
    "In order to find coefficients and intercept, we should add a column of 1s into X, train array. Since previously we tried 5 fold, we will execute linear regression one more time just like in model-1, to get a benchmark."
   ]
  },
  {
   "cell_type": "code",
   "execution_count": 1166,
   "metadata": {},
   "outputs": [
    {
     "data": {
      "text/plain": [
       "Index(['Length1', 'Length2', 'Length3', 'Height', 'Width', 'Rand1', 'Rand2',\n",
       "       'Species_Parkki', 'Species_Perch', 'Species_Pike', 'Species_Roach',\n",
       "       'Species_Smelt', 'Species_Whitefish'],\n",
       "      dtype='object')"
      ]
     },
     "execution_count": 1166,
     "metadata": {},
     "output_type": "execute_result"
    }
   ],
   "source": [
    "X_train.columns"
   ]
  },
  {
   "cell_type": "code",
   "execution_count": 1167,
   "metadata": {},
   "outputs": [],
   "source": [
    "X = np.array(X_train)\n",
    "X = np.insert(X, 0, np.zeros(X.shape[0]) + 1, axis=1) # add a column of 1"
   ]
  },
  {
   "cell_type": "markdown",
   "metadata": {},
   "source": [
    "Defining Loss as sum of squared errors, $SSE$"
   ]
  },
  {
   "cell_type": "code",
   "execution_count": 1158,
   "metadata": {
    "scrolled": true
   },
   "outputs": [
    {
     "name": "stderr",
     "output_type": "stream",
     "text": [
      "INFO:root:[-912.50313889  -51.09884918   59.62481425   24.54022172   15.92791602\n",
      "  -14.71165646    0.31461586   -5.07150155  158.60531341  178.503839\n",
      " -168.47441673  115.06505719  446.11887216  123.01838692]\n",
      "INFO:root:\n",
      "Our Regression Intercept = -912.5031388864352\n",
      "INFO:root:\n",
      " Our Regression Coefficients = [ -51.09884918   59.62481425   24.54022172   15.92791602  -14.71165646\n",
      "    0.31461586   -5.07150155  158.60531341  178.503839   -168.47441673\n",
      "  115.06505719  446.11887216  123.01838692]\n"
     ]
    },
    {
     "name": "stdout",
     "output_type": "stream",
     "text": [
      "Optimization terminated successfully.    (Exit mode 0)\n",
      "            Current function value: 1006962.9452056424\n",
      "            Iterations: 22\n",
      "            Function evaluations: 394\n",
      "            Gradient evaluations: 22\n"
     ]
    }
   ],
   "source": [
    "def loss(x):\n",
    "    return np.sum(np.square((np.dot(X, x) - Y)))\n",
    "\n",
    "\n",
    "x0 = np.zeros(X.shape[1])\n",
    "res = minimize(loss, x0, method='SLSQP',\n",
    "               options={'disp': True})\n",
    "\n",
    "logger.info(res.x)\n",
    "logger.info('\\nOur Regression Intercept = {0}'.format(res.x[0]))\n",
    "logger.info('\\n Our Regression Coefficients = {0}'.format(res.x[1:]))\n",
    "# print(np.dot(res.x, X.T))\n",
    "# print(np.sum(np.square(np.dot(res.x, X.T) - Y)))"
   ]
  },
  {
   "cell_type": "code",
   "execution_count": 1159,
   "metadata": {},
   "outputs": [
    {
     "name": "stderr",
     "output_type": "stream",
     "text": [
      "INFO:root:\n",
      " Sklearn Intercept = -912.5010376153836\n",
      "INFO:root:\n",
      " Sklearn Coefficients = [ -51.09830046   59.6240684    24.5403018    15.92787391  -14.71092287\n",
      "    0.31461253   -5.0715961   158.60442995  178.5034078  -168.47280827\n",
      "  115.06439571  446.11835592  123.01766434]\n"
     ]
    }
   ],
   "source": [
    "# Compare with scikit-learn's LinearRegression coefficients\n",
    "lr = LinearRegression().fit(X_train, y_train)\n",
    "logger.info('\\n Sklearn Intercept = {0}'.format(lr.intercept_))\n",
    "logger.info('\\n Sklearn Coefficients = {0}'.format(lr.coef_))"
   ]
  },
  {
   "cell_type": "markdown",
   "metadata": {},
   "source": [
    "As we can see from the logs, both Sklearn & our regression intercepts, coefficients are same. We can double check with the last fold & Model 1 coefficients (since we are using last fold's data). Again, we get the same results."
   ]
  },
  {
   "cell_type": "code",
   "execution_count": 1165,
   "metadata": {},
   "outputs": [
    {
     "name": "stderr",
     "output_type": "stream",
     "text": [
      "INFO:root:\n",
      "Last Fold's Coefficients = [array([ -51.09830046,   59.6240684 ,   24.5403018 ,   15.92787391,\n",
      "        -14.71092287,    0.31461253,   -5.0715961 ,  158.60442995,\n",
      "        178.5034078 , -168.47280827,  115.06439571,  446.11835592,\n",
      "        123.01766434])]\n",
      "INFO:root:\n",
      "Last Fold's Intercept = [-912.5010376153836]\n"
     ]
    }
   ],
   "source": [
    "logger.info(\"\\nLast Fold's Coefficients = {0}\".format(list(final_df.loc[(final_df.Fold == 5) & (final_df.model_id == 1)]['coef'])))\n",
    "logger.info(\"\\nLast Fold's Intercept = {0}\".format(list(final_df.loc[(final_df.Fold == 5) & (final_df.model_id == 1)]['intercept'])))"
   ]
  },
  {
   "cell_type": "markdown",
   "metadata": {},
   "source": [
    "# Task 3: Regularization\n",
    "## Lasso Regression Formula\n",
    "![Objective Function](./lasso1.png)\n",
    "$s.t.$\n",
    "![Constraint](./lasso_cons.png)\n"
   ]
  },
  {
   "cell_type": "markdown",
   "metadata": {},
   "source": [
    "#### Lasso with Upper Bound Constraint\n",
    "Aim is to force coefficient values closer to zero, which is the ideal for producing simpler models. First we start with upper bound constraint, as can be seen from the above formula, when $\\lambda = 0 $ then we can limit the weigths ($\\beta$) of the features with the first constraint."
   ]
  },
  {
   "cell_type": "code",
   "execution_count": 878,
   "metadata": {},
   "outputs": [],
   "source": [
    "from scipy.optimize import minimize\n",
    "\n",
    "def predict(X,w):\n",
    "    return np.dot(X,w)\n",
    "\n",
    "def LossLasso(weights, X, y, alpha):\n",
    "    w = weights\n",
    "    y_pred = predict(X,w)\n",
    "    loss = np.linalg.norm(y - y_pred)**2 + alpha * np.sum(abs(w)) #lasso loss formula\n",
    "    return loss\n",
    "\n",
    "def constraint(w, bound=u_bound):\n",
    "    return bound - np.sum(abs(w))\n",
    "\n",
    "def fit(X,y,alpha=0, bound=u_bound):\n",
    "    initw = np.random.rand(X.shape[1]) #initial random weights\n",
    "    cons = ({'type': 'ineq', 'fun': constraint})\n",
    "    #calling minimizer with SLSQP method\n",
    "    res = minimize(LossLasso,\n",
    "                initw,\n",
    "                args=(X,y,alpha),\n",
    "                constraints=cons,\n",
    "                method='SLSQP',\n",
    "                  options={'maxiter': 1000})\n",
    "    return res, y_pred"
   ]
  },
  {
   "cell_type": "markdown",
   "metadata": {},
   "source": [
    "First, *Upper Bound* is 1000 and $\\lambda$ value is 0 in order to see the upper bound effect."
   ]
  },
  {
   "cell_type": "code",
   "execution_count": 875,
   "metadata": {},
   "outputs": [
    {
     "name": "stderr",
     "output_type": "stream",
     "text": [
      "INFO:root:Boundary constraint is 1000 >= 999.9999999340434\n",
      "INFO:root:     fun: 1980492.406872214\n",
      "     jac: array([-557.28125 , -557.28125 ,  557.328125, -557.5     , -557.28125 ,\n",
      "        557.375   ,  557.328125,  557.28125 ,  557.328125,  557.375   ,\n",
      "        557.328125,  557.328125,  557.328125])\n",
      " message: 'Optimization terminated successfully.'\n",
      "    nfev: 2019\n",
      "     nit: 129\n",
      "    njev: 129\n",
      "  status: 0\n",
      " success: True\n",
      "       x: array([  59.18470695,   82.4724527 , -118.47193039,   44.52520482,\n",
      "         22.97436482,   -1.20761672,  -33.18474901, -220.27452872,\n",
      "       -194.4730709 ,  -83.70419379,  -99.92543091,  -12.24892361,\n",
      "        -27.35282659])\n"
     ]
    }
   ],
   "source": [
    "u_bound = 1000\n",
    "res, y_pred = fit(X_train, y_train,alpha=0, bound=u_bound)\n",
    "logger.info('Boundary constraint is {0} >= {1}'.format(u_bound, sum(abs(res.x))))\n",
    "logger.info(res)"
   ]
  },
  {
   "cell_type": "markdown",
   "metadata": {},
   "source": [
    "As can be seen from the logs, the regularization is not working since almost all the coefficients are far from the 0.\n",
    "One possible solution might be the decreasing upper bound while others kept same. Let's try 100."
   ]
  },
  {
   "cell_type": "code",
   "execution_count": 879,
   "metadata": {},
   "outputs": [
    {
     "name": "stderr",
     "output_type": "stream",
     "text": [
      "INFO:root:Boundary constraint is 100 >= 99.99999999999957\n",
      "INFO:root:     fun: 3179067.7977260556\n",
      "     jac: array([-3807.96875, -2814.5625 ,  3163.375  , -3822.875  , -3824.28125,\n",
      "        3891.     ,  3828.90625,  2727.9375 ,   730.53125,  1311.9375 ,\n",
      "        2227.15625,  -478.4375 ,  -496.125  ])\n",
      " message: 'Optimization terminated successfully.'\n",
      "    nfev: 4982\n",
      "     nit: 308\n",
      "    njev: 308\n",
      "  status: 0\n",
      " success: True\n",
      "       x: array([ 17.49152172,   0.00008191,  -0.        ,  11.29174407,\n",
      "        25.59351942,  -1.8697861 , -43.75320791,  -0.00009391,\n",
      "         0.00000323,  -0.00000642,  -0.00000219,   0.00001834,\n",
      "         0.00001477])\n"
     ]
    }
   ],
   "source": [
    "u_bound = 100\n",
    "res, y_pred = fit(X_train, y_train,alpha=0, bound=u_bound)\n",
    "logger.info('Boundary constraint is {0} >= {1}'.format(u_bound, sum(abs(res.x))))\n",
    "logger.info(res)"
   ]
  },
  {
   "cell_type": "markdown",
   "metadata": {},
   "source": [
    "100 for the upper bound seems to be working quite good since most of the coefficients are close to zero."
   ]
  },
  {
   "cell_type": "markdown",
   "metadata": {},
   "source": [
    "#### Lasso with Lagrange Multiplier\n",
    "Now, we eliminate the upper bound constraint and change the value of $\\lambda$, as can be seen from the above formula, when there is no constraint, the only way to push coefficients to be around zero is to increase the effect of right part of the multi-objective function. This can be achieved by the control parameter, $\\lambda$. As $\\lambda$ increases, more and more coefficients are set to zero and eliminated. (theoretically, when $\\lambda = \\infty $, all coefficients are eliminated)\n",
    "\n",
    "Let's try with a small $\\lambda$ such as 0.0001."
   ]
  },
  {
   "cell_type": "code",
   "execution_count": 884,
   "metadata": {},
   "outputs": [
    {
     "name": "stderr",
     "output_type": "stream",
     "text": [
      "INFO:root:Boundary constraint is 1000 >= 3309.8639782964055\n",
      "INFO:root:     fun: 1355722.9723254538\n",
      "     jac: array([-0.046875,  0.03125 , -0.046875,  0.109375, -0.046875,  0.0625  ,\n",
      "        0.      , -0.046875,  0.      ,  0.      ,  0.      ,  0.      ,\n",
      "       -0.046875])\n",
      " message: 'Optimization terminated successfully.'\n",
      "    nfev: 310\n",
      "     nit: 18\n",
      "    njev: 18\n",
      "  status: 0\n",
      " success: True\n",
      "       x: array([ -12.01175188,  178.00722477, -126.98695183,  -21.81742247,\n",
      "         62.44657137,    0.08223991,  -13.26308428, -323.60776255,\n",
      "       -589.47490355, -810.47790663, -427.85250202, -319.80610369,\n",
      "       -424.02955336])\n"
     ]
    }
   ],
   "source": [
    "def fit(X,y,alpha=0, bound=1000):\n",
    "    initw = np.random.rand(X.shape[1]) #initial random weights\n",
    "    cons = ({'type': 'ineq', 'fun': constraint})\n",
    "    #calling minimizer with SLSQP method\n",
    "    res = minimize(LossLasso,\n",
    "                initw,\n",
    "                args=(X,y,alpha),\n",
    "#                 constraints=cons,\n",
    "                method='SLSQP',\n",
    "                  options={'maxiter': 100})\n",
    "    return res, y_pred\n",
    "\n",
    "res, y_pred = fit(X_train, y_train,alpha=0.0001, bound=1000)\n",
    "logger.info('Boundary constraint is {0} >= {1}'.format(bound, sum(abs(res.x))))\n",
    "logger.info(res)"
   ]
  },
  {
   "cell_type": "markdown",
   "metadata": {},
   "source": [
    "As expected, we did not give weight to right part of the objective function. Since there were no constraints, the $\\beta$ values are huge. However, we can simply increase the $\\lambda$ in order coefficients to be around zero, as previously mentioned.\n",
    "\n",
    "So let's try with a greater $\\lambda$, 10."
   ]
  },
  {
   "cell_type": "code",
   "execution_count": 883,
   "metadata": {},
   "outputs": [
    {
     "name": "stderr",
     "output_type": "stream",
     "text": [
      "INFO:root:Boundary constraint is 1000 >= 3254.9850477509985\n",
      "INFO:root:     fun: 1388546.9464100674\n",
      "     jac: array([ 0.453125,  0.46875 ,  0.484375,  0.0625  ,  0.078125,  0.71875 ,\n",
      "        0.015625, -0.015625, -0.015625, -0.015625, -0.015625,  0.015625,\n",
      "       -0.015625])\n",
      " message: 'Optimization terminated successfully.'\n",
      "    nfev: 345\n",
      "     nit: 20\n",
      "    njev: 20\n",
      "  status: 0\n",
      " success: True\n",
      "       x: array([  -8.75392891,  174.47602219, -126.91813386,  -20.26527537,\n",
      "         61.34585196,    0.05736933,  -13.59780023, -321.8793707 ,\n",
      "       -581.14549258, -795.65799582, -421.22900318, -314.05524511,\n",
      "       -415.60355851])\n"
     ]
    }
   ],
   "source": [
    "def fit(X,y,alpha=0, bound=1000):\n",
    "    initw = np.random.rand(X.shape[1]) #initial random weights\n",
    "    cons = ({'type': 'ineq', 'fun': constraint})\n",
    "    #calling minimizer with SLSQP method\n",
    "    res = minimize(LossLasso,\n",
    "                initw,\n",
    "                args=(X,y,alpha),\n",
    "#                 constraints=cons,\n",
    "                method='SLSQP',\n",
    "                  options={'maxiter': 100})\n",
    "    return res, y_pred\n",
    "\n",
    "res, y_pred = fit(X_train, y_train,alpha=10, bound=1000)\n",
    "logger.info('Boundary constraint is {0} >= {1}'.format(bound, sum(abs(res.x))))\n",
    "logger.info(res)"
   ]
  },
  {
   "cell_type": "markdown",
   "metadata": {},
   "source": [
    "Sum of absolute $\\beta$ values were around 3309, now it is 3255. There is a decrease but it is not enough.\n",
    "\n",
    "Let's try higher, 10000?"
   ]
  },
  {
   "cell_type": "code",
   "execution_count": 885,
   "metadata": {},
   "outputs": [
    {
     "name": "stderr",
     "output_type": "stream",
     "text": [
      "INFO:root:Boundary constraint is 1000 >= 71.40046917948459\n",
      "INFO:root:     fun: 4061398.5221354086\n",
      "     jac: array([  -279.96875,     48.0625 ,   6157.625  ,    -84.71875,\n",
      "         2254.3125 ,   -489.1875 ,    -25.6875 ,  -7161.34375,\n",
      "       -10031.09375,  -8156.84375,  -7639.25   ,  10124.25   ,\n",
      "         9299.6875 ])\n",
      " message: 'Optimization terminated successfully.'\n",
      "    nfev: 1212\n",
      "     nit: 68\n",
      "    njev: 68\n",
      "  status: 0\n",
      " success: True\n",
      "       x: array([ 20.10212568,   0.00000052,   0.00017027,  13.72250222,\n",
      "         0.0001578 ,  -1.92380984, -35.6502183 ,  -0.00011974,\n",
      "        -0.00070591,  -0.00001442,  -0.00025157,   0.00007364,\n",
      "         0.00031927])\n"
     ]
    }
   ],
   "source": [
    "def fit(X,y,alpha=0, bound=1000):\n",
    "    initw = np.random.rand(X.shape[1]) #initial random weights\n",
    "    cons = ({'type': 'ineq', 'fun': constraint})\n",
    "    #calling minimizer with SLSQP method\n",
    "    res = minimize(LossLasso,\n",
    "                initw,\n",
    "                args=(X,y,alpha),\n",
    "#                 constraints=cons,\n",
    "                method='SLSQP',\n",
    "                  options={'maxiter': 100})\n",
    "    return res, y_pred\n",
    "\n",
    "res, y_pred = fit(X_train, y_train, alpha=10000, bound=1000)\n",
    "logger.info('Boundary constraint is {0} >= {1}'.format(bound, sum(abs(res.x))))\n",
    "logger.info(res)"
   ]
  },
  {
   "cell_type": "markdown",
   "metadata": {},
   "source": [
    "Now, sum of absolute $\\beta$ value is 71, much smaller than previous. As mentioned above, when $\\lambda$ gets larger and larger, our coefficients forced around to 0, and regularization is working.\n",
    "\n",
    "The two solutions are close to each other. We can try to make both of the solutions be the same by adding an equality constraint with a value of 72, (or an upper & lower bound constraints), which is from previous one."
   ]
  },
  {
   "cell_type": "code",
   "execution_count": 894,
   "metadata": {},
   "outputs": [],
   "source": [
    "def constraint(w, bound=u_bound):\n",
    "    return bound - np.sum(abs(w))\n",
    "\n",
    "def fit(X,y,alpha=0, bound=u_bound):\n",
    "    initw = np.random.rand(X.shape[1]) #initial random weights\n",
    "    cons = ({'type': 'eq', 'fun': constraint})\n",
    "    #calling minimizer with SLSQP method\n",
    "    res = minimize(LossLasso,\n",
    "                initw,\n",
    "                args=(X,y,alpha),\n",
    "                constraints=cons,\n",
    "                method='SLSQP',\n",
    "                  options={'maxiter': 1000})\n",
    "    return res, y_pred"
   ]
  },
  {
   "cell_type": "code",
   "execution_count": 898,
   "metadata": {},
   "outputs": [
    {
     "name": "stderr",
     "output_type": "stream",
     "text": [
      "INFO:root:Boundary constraint is 71.40046917948459 == 71.40046925516653\n",
      "INFO:root:     fun: 3347378.5165967015\n",
      "     jac: array([-10011.40625,  -9662.     ,  -3527.1875 , -10003.34375,\n",
      "        -7702.59375,   9984.59375,  10001.40625,   2838.96875,\n",
      "          -27.84375,   1845.28125,   2361.40625,    124.625  ,\n",
      "         -699.8125 ])\n",
      " message: 'Optimization terminated successfully.'\n",
      "    nfev: 5558\n",
      "     nit: 340\n",
      "    njev: 340\n",
      "  status: 0\n",
      " success: True\n",
      "       x: array([ 20.10504383,   0.00000179,   0.00000006,  13.71936897,\n",
      "         0.00002812,  -1.92384046, -35.6521856 ,  -0.00000001,\n",
      "        -0.00000006,  -0.00000012,  -0.0000001 ,   0.00000013,\n",
      "        -0.00000001])\n"
     ]
    }
   ],
   "source": [
    "u_bound = 71.40046917948459\n",
    "# sum(abs(res.x)) # previous result\n",
    "res, y_pred = fit(X_train, y_train,alpha=0, bound=u_bound)\n",
    "logger.info('Boundary constraint is {0} == {1}'.format(u_bound, sum(abs(res.x))))\n",
    "logger.info(res)"
   ]
  },
  {
   "cell_type": "markdown",
   "metadata": {},
   "source": [
    "As we can see, both of the coefficients are almost the same, but since there are multiple columns, possibility of finding the exact solution is pretty low."
   ]
  },
  {
   "cell_type": "code",
   "execution_count": 919,
   "metadata": {},
   "outputs": [],
   "source": [
    "alpha_vers = np.array([ 20.10212568,   0.00000052,   0.00017027,  13.72250222, 0.0001578,\n",
    "                                    -1.92380984, -35.6502183 ,  -0.00011974, -0.00070591,  -0.00001442,\n",
    "                                    -0.00025157,   0.00007364, 0.00031927])\n",
    "constraint_version = np.array([ 20.10504383,   0.00000179,   0.00000006,  13.71936897,\n",
    "                                          0.00002812,  -1.92384046, -35.6521856 ,  -0.00000001,\n",
    "                                          -0.00000006,  -0.00000012,  -0.0000001 ,   0.00000013, -0.00000001])"
   ]
  },
  {
   "cell_type": "markdown",
   "metadata": {},
   "source": [
    "Since all the values are so close to each other, we will add 1 to constraint_version coefficients in order to see clearly that they would be overlapping."
   ]
  },
  {
   "cell_type": "code",
   "execution_count": 940,
   "metadata": {},
   "outputs": [
    {
     "data": {
      "image/png": "[encoded data removed]",
      "text/plain": [
       "<Figure size 1332x756 with 1 Axes>"
      ]
     },
     "metadata": {
      "needs_background": "light"
     },
     "output_type": "display_data"
    }
   ],
   "source": [
    "fig = plt.figure()\n",
    "fig.set_size_inches(18.5, 10.5)\n",
    "ax1 = fig.add_subplot(111)\n",
    "\n",
    "ax1.scatter([i for i in range(len(X_train.columns))], constraint_version+1, c='b', label='constraint_vers')\n",
    "ax1.scatter([i for i in range(len(X_train.columns))], alpha_vers, c='r', label='alpha_vers')\n",
    "plt.legend(loc='lower right');\n",
    "plt.show()"
   ]
  },
  {
   "cell_type": "markdown",
   "metadata": {},
   "source": [
    "#### sklearn Lasso Model"
   ]
  },
  {
   "cell_type": "markdown",
   "metadata": {},
   "source": [
    "We will try the built in Lasso from sklearn. First, $\\lambda$ value is 0.0001. $\\alpha$ is equivalent to $\\lambda$ in our implementation."
   ]
  },
  {
   "cell_type": "code",
   "execution_count": 956,
   "metadata": {},
   "outputs": [
    {
     "name": "stderr",
     "output_type": "stream",
     "text": [
      "INFO:root:[ -51.09706904   59.63787662   24.52561675   15.92305491  -14.70042219\n",
      "    0.31462933   -5.07183045  158.55567586  178.42180671 -168.53969756\n",
      "  115.00550306  446.04001343  122.95562178]\n",
      "INFO:root:Sum of absolute coefficients is 1360.788817693881\n"
     ]
    }
   ],
   "source": [
    "from sklearn import linear_model\n",
    "clf = linear_model.Lasso(alpha=0.0001, max_iter=1000000)\n",
    "clf.fit(X_train, y_train)\n",
    "logger.info(clf.coef_)\n",
    "logger.info('Sum of absolute coefficients is {0}'.format(sum(abs(clf.coef_))))"
   ]
  },
  {
   "cell_type": "markdown",
   "metadata": {},
   "source": [
    "When we compare it with the second node of this task, (the one with the lagrange multiplier), our implementation resulted as total of 3310 absolute coefficients. However, with the same $\\lambda$ value, built-in Lasso achieved a total of 1361, which is pretty good.\n",
    "\n",
    "Now, when we increase the $\\lambda$ to 10;"
   ]
  },
  {
   "cell_type": "code",
   "execution_count": 959,
   "metadata": {},
   "outputs": [
    {
     "name": "stderr",
     "output_type": "stream",
     "text": [
      "INFO:root:[22.80342039  0.23511261 -0.         16.13097597 38.52440946  0.42926161\n",
      " -3.15096137 -0.          0.         -0.         -0.         78.9050376\n",
      "  0.        ]\n",
      "INFO:root:Sum of absolute coefficients is 160.17917899757904\n"
     ]
    }
   ],
   "source": [
    "clf = linear_model.Lasso(alpha=10, max_iter=1000000)\n",
    "clf.fit(X_train, y_train)\n",
    "logger.info(clf.coef_)\n",
    "logger.info('Sum of absolute coefficients is {0}'.format(sum(abs(clf.coef_))))"
   ]
  },
  {
   "cell_type": "markdown",
   "metadata": {},
   "source": [
    "The sum of absolute coefficients is 160, and in our implementation with an $\\lambda$ 10, it was 3255. Built-in Lasso regularized well when $\\lambda$ increases."
   ]
  }
 ],
 "metadata": {
  "kernelspec": {
   "display_name": "Python 3",
   "language": "python",
   "name": "python3"
  },
  "language_info": {
   "codemirror_mode": {
    "name": "ipython",
    "version": 3
   },
   "file_extension": ".py",
   "mimetype": "text/x-python",
   "name": "python",
   "nbconvert_exporter": "python",
   "pygments_lexer": "ipython3",
   "version": "3.7.4"
  }
 },
 "nbformat": 4,
 "nbformat_minor": 2
}
